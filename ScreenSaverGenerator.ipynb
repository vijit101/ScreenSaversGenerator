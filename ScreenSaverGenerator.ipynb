{
 "cells": [
  {
   "cell_type": "code",
   "execution_count": 7,
   "metadata": {},
   "outputs": [],
   "source": [
    "import cv2\n",
    "import random"
   ]
  },
  {
   "cell_type": "code",
   "execution_count": null,
   "metadata": {},
   "outputs": [],
   "source": [
    "cap = cv2.VideoCapture(0)"
   ]
  },
  {
   "cell_type": "code",
   "execution_count": 4,
   "metadata": {},
   "outputs": [],
   "source": [
    "from numpy import zeros"
   ]
  },
  {
   "cell_type": "code",
   "execution_count": 22,
   "metadata": {},
   "outputs": [],
   "source": [
    "photo = zeros((200,200))\n",
    "colorPhoto = zeros((200,200,3))"
   ]
  },
  {
   "cell_type": "code",
   "execution_count": 24,
   "metadata": {},
   "outputs": [
    {
     "data": {
      "text/plain": [
       "array([[0., 0., 0., ..., 0., 0., 0.],\n",
       "       [0., 0., 0., ..., 0., 0., 0.],\n",
       "       [0., 0., 0., ..., 0., 0., 0.],\n",
       "       ...,\n",
       "       [0., 0., 0., ..., 0., 0., 0.],\n",
       "       [0., 0., 0., ..., 0., 0., 0.],\n",
       "       [0., 0., 0., ..., 0., 0., 0.]])"
      ]
     },
     "execution_count": 24,
     "metadata": {},
     "output_type": "execute_result"
    }
   ],
   "source": [
    "photo"
   ]
  },
  {
   "cell_type": "code",
   "execution_count": 15,
   "metadata": {},
   "outputs": [],
   "source": [
    "for i in range(200):\n",
    "    photo[0:random.randrange(0,200,1),0:random.randrange(0,200,1)] = random.randrange(0,256,1)"
   ]
  },
  {
   "cell_type": "code",
   "execution_count": 17,
   "metadata": {},
   "outputs": [
    {
     "data": {
      "text/plain": [
       "array([[ 58.,  58.,  58., ..., 183., 199.,   0.],\n",
       "       [ 58.,  58.,  58., ..., 183., 199.,   0.],\n",
       "       [ 58.,  58.,  58., ..., 183., 199.,   0.],\n",
       "       ...,\n",
       "       [ 97.,  97.,  97., ...,  87.,  87.,   0.],\n",
       "       [ 87.,  87.,  87., ...,  87.,  87.,   0.],\n",
       "       [  0.,   0.,   0., ...,   0.,   0.,   0.]])"
      ]
     },
     "execution_count": 17,
     "metadata": {},
     "output_type": "execute_result"
    }
   ],
   "source": [
    "photo"
   ]
  },
  {
   "cell_type": "code",
   "execution_count": null,
   "metadata": {},
   "outputs": [],
   "source": [
    "while True :\n",
    "    ch = cv2.waitKey(100)\n",
    "    if ch == ord('g'):\n",
    "        for i in range(200):\n",
    "            photo = zeros((200,200))\n",
    "            photo[0:random.randrange(0,200,1),0:random.randrange(0,200,1)] = random.randrange(0,256,1)\n",
    "    else :\n",
    "        for i in range(200):\n",
    "            colorPhoto[0:random.randrange(0,200,1),0:random.randrange(0,200,1),0]  = random.randrange(0,256,1)\n",
    "            colorPhoto[0:random.randrange(0,200,1),0:random.randrange(0,200,1),1]  = random.randrange(0,256,1)\n",
    "            colorPhoto[0:random.randrange(0,200,1),0:random.randrange(0,200,1),2]  = random.randrange(0,256,1)\n",
    "            photo = colorPhoto\n",
    "    cv2.imshow(\"Screensaver\",photo)\n",
    "    if cv2.waitKey(100) == 13:\n",
    "        break\n",
    "cv2.destroyAllWindows()"
   ]
  },
  {
   "cell_type": "code",
   "execution_count": null,
   "metadata": {},
   "outputs": [],
   "source": []
  }
 ],
 "metadata": {
  "kernelspec": {
   "display_name": "Python 3",
   "language": "python",
   "name": "python3"
  },
  "language_info": {
   "codemirror_mode": {
    "name": "ipython",
    "version": 3
   },
   "file_extension": ".py",
   "mimetype": "text/x-python",
   "name": "python",
   "nbconvert_exporter": "python",
   "pygments_lexer": "ipython3",
   "version": "3.7.6"
  }
 },
 "nbformat": 4,
 "nbformat_minor": 4
}
